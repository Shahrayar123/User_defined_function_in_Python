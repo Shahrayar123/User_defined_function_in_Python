{
 "cells": [
  {
   "cell_type": "markdown",
   "metadata": {},
   "source": [
    "##  *****args and  ******kwargs\n",
    "---"
   ]
  },
  {
   "cell_type": "raw",
   "metadata": {},
   "source": [
    "---> For dealing with unknown numbers of arguments in function we use * and ** operators in function      parenthesis.\n",
    "---> It is convention to use args with * i.e *args and kwargs with ** i.e **kwargs.\n",
    "---> *args make tuple.\n",
    "---> **kwargs make dictionary.\n",
    "---> *args and **kwargs make the function flexible."
   ]
  },
  {
   "cell_type": "markdown",
   "metadata": {},
   "source": [
    "#### Define a function that sum up the numbers entered by the user "
   ]
  },
  {
   "cell_type": "code",
   "execution_count": 6,
   "metadata": {},
   "outputs": [
    {
     "name": "stdout",
     "output_type": "stream",
     "text": [
      "(1, 2)\n",
      "<class 'tuple'>\n",
      "(1, 2, 3)\n",
      "<class 'tuple'>\n",
      "(1, 3, 5, 6, 7)\n",
      "<class 'tuple'>\n",
      "3\n",
      "6\n",
      "22\n"
     ]
    }
   ],
   "source": [
    "def add(*args):\n",
    "    print(args)\n",
    "    print(type(args))\n",
    "    s=0\n",
    "    for i in args:\n",
    "        s+=i\n",
    "    return s    \n",
    "\n",
    "a=add(1,2)             # We can put as much arguments as we wants  \n",
    "b=add(1,2,3)\n",
    "c=add(1,3,5,6,7)\n",
    "print(f\"{a}\\n{b}\\n{c}\")"
   ]
  },
  {
   "cell_type": "markdown",
   "metadata": {},
   "source": [
    "#### Define a function which accept numbers entered by the user and display only even numbers from them and also display the sum of all that even numbers."
   ]
  },
  {
   "cell_type": "code",
   "execution_count": 18,
   "metadata": {},
   "outputs": [
    {
     "name": "stdout",
     "output_type": "stream",
     "text": [
      "2 is even number\n",
      "4 is even number\n",
      "6 is even number\n",
      "8 is even number\n",
      "10 is even number\n",
      "12 is even number\n",
      "\n",
      "Total even numbers is 6\n",
      "Sum of all even numbers is 42\n"
     ]
    }
   ],
   "source": [
    "def even(*args):\n",
    "    t=args                           # t contain tuple  \n",
    "    s=0                              # for sum\n",
    "    c=0                              # for count even numbers\n",
    "    \n",
    "    for i in range(len(t)):\n",
    "        if(t[i]%2==0):\n",
    "            c+=1                     \n",
    "            print(f\"{t[i]} is even number\")\n",
    "            s=s+t[i]\n",
    "    return s,c\n",
    "\n",
    "r=even(1,2,3,4,5,6,8,10,12)              # return value in the form of tuple i.e r contain tuple\n",
    "\n",
    "print(f\"\\nTotal even numbers is {r[1]}\")\n",
    "print(f\"Sum of all even numbers is {r[0]}\")\n"
   ]
  },
  {
   "cell_type": "markdown",
   "metadata": {},
   "source": [
    "#### Define a function which accept numbers entered by the user and display only odd numbers from them and also display the sum of all that odd numbers."
   ]
  },
  {
   "cell_type": "code",
   "execution_count": 28,
   "metadata": {},
   "outputs": [
    {
     "name": "stdout",
     "output_type": "stream",
     "text": [
      "1 is odd number\n",
      "3 is odd number\n",
      "5 is odd number\n",
      "1 is odd number\n",
      "\n",
      "Total odd numbers is 4\n",
      "Sum of all even numbers is 10\n"
     ]
    }
   ],
   "source": [
    "def odd(*args):\n",
    "    t=args\n",
    "    c=0\n",
    "    s=0\n",
    "    for i in range(len(t)):\n",
    "        if(t[i]%2!=0):\n",
    "            c+=1\n",
    "            print(f\"{t[i]} is odd number\")\n",
    "            s+=t[i]\n",
    "    return s,c\n",
    "\n",
    "r=odd(1,2,3,4,5,6,8,10,12,1)              # return value in the form of tuple i.e r contain tuple\n",
    "\n",
    "print(f\"\\nTotal odd numbers is {r[1]}\")\n",
    "print(f\"Sum of all even numbers is {r[0]}\")\n",
    "    "
   ]
  },
  {
   "cell_type": "markdown",
   "metadata": {},
   "source": [
    "#### Evaluate the expression ----    add(1,2,3,4,5)//2 + (mul(2,3,4,5) -12) "
   ]
  },
  {
   "cell_type": "code",
   "execution_count": 34,
   "metadata": {},
   "outputs": [
    {
     "name": "stdout",
     "output_type": "stream",
     "text": [
      "Result is 115\n"
     ]
    }
   ],
   "source": [
    "def add(*a):\n",
    "    s=0\n",
    "    for i in a:\n",
    "        s+=i\n",
    "    return s    \n",
    "\n",
    "\n",
    "def mul(*a):\n",
    "    m=1\n",
    "    for i in a:\n",
    "        m*=i\n",
    "    return m\n",
    "    \n",
    "    \n",
    "\n",
    "r=add(1,2,3,4,5)//2 + (mul(2,3,4,5) -12) \n",
    "\n",
    "\n",
    "print(F\"Result is {r}\")               \n"
   ]
  },
  {
   "cell_type": "markdown",
   "metadata": {},
   "source": [
    "## *Kwargs\n",
    "---"
   ]
  },
  {
   "cell_type": "code",
   "execution_count": 48,
   "metadata": {},
   "outputs": [
    {
     "name": "stdout",
     "output_type": "stream",
     "text": [
      "<class 'dict'>\n",
      "dict_keys(['Name', 'Age', 'Country'])\n",
      "dict_values(['Shahrayar', 20, 'Pakistan'])\n",
      "Name ---> Shahrayar\n",
      "Age ---> 20\n",
      "Country ---> Pakistan\n",
      "\n",
      "<class 'dict'>\n",
      "dict_keys([])\n",
      "dict_values([])\n",
      "\n",
      "<class 'dict'>\n",
      "dict_keys(['iphone', 'iphone 3G', 'iphone 3GS', 'iphone 4', 'iphone 4S', 'iphone 5'])\n",
      "dict_values([2007, 2008, 2009, 2010, 2011, 2012])\n",
      "iphone ---> 2007\n",
      "iphone 3G ---> 2008\n",
      "iphone 3GS ---> 2009\n",
      "iphone 4 ---> 2010\n",
      "iphone 4S ---> 2011\n",
      "iphone 5 ---> 2012\n"
     ]
    }
   ],
   "source": [
    "def info(**kwargs):\n",
    "    print(type(kwargs))\n",
    "    \n",
    "    print(kwargs.keys())\n",
    "    print(kwargs.values())\n",
    "    for i,j in kwargs.items():\n",
    "        print(f\"{i} ---> {j}\")\n",
    "\n",
    "info(Name=\"Shahrayar\",Age=20,Country=\"Pakistan\")\n",
    "print()\n",
    "\n",
    "info()                   # Call function with no arguments\n",
    "print()\n",
    "\n",
    "released = {\n",
    "        \"iphone\" : 2007,\n",
    "        \"iphone 3G\" : 2008,\n",
    "        \"iphone 3GS\" : 2009,\n",
    "        \"iphone 4\" : 2010,\n",
    "        \"iphone 4S\" : 2011,\n",
    "        \"iphone 5\" : 2012\n",
    "}\n",
    "info(**released)            # dictionary unpacking"
   ]
  },
  {
   "cell_type": "code",
   "execution_count": null,
   "metadata": {},
   "outputs": [],
   "source": []
  }
 ],
 "metadata": {
  "kernelspec": {
   "display_name": "Python 3",
   "language": "python",
   "name": "python3"
  },
  "language_info": {
   "codemirror_mode": {
    "name": "ipython",
    "version": 3
   },
   "file_extension": ".py",
   "mimetype": "text/x-python",
   "name": "python",
   "nbconvert_exporter": "python",
   "pygments_lexer": "ipython3",
   "version": "3.7.3"
  }
 },
 "nbformat": 4,
 "nbformat_minor": 2
}
