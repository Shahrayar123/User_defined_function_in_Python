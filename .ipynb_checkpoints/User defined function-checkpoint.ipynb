{
 "cells": [
  {
   "cell_type": "markdown",
   "metadata": {},
   "source": [
    "### Write a function to calculate area and perimeter of a rectangle.\n",
    "---"
   ]
  },
  {
   "cell_type": "code",
   "execution_count": 2,
   "metadata": {},
   "outputs": [
    {
     "name": "stdout",
     "output_type": "stream",
     "text": [
      "Enter the length of rectangle: 12\n",
      "Enter the width of rectangle: 2\n",
      "\n",
      "Area of rectangle is: 24.0 \n",
      "\n",
      "Perimeter of rectangle is : 28.0\n"
     ]
    }
   ],
   "source": [
    "def area(l,w):               # Formula for area of rectangle is w+l\n",
    "    return(l*w)\n",
    "\n",
    "def perimeter(l,w):          # Formula for perimeter of rectangle is 2*(l+w) \n",
    "    return(2*(l+w))\n",
    "\n",
    "length=float(input(\"Enter the length of rectangle: \"))\n",
    "width=float(input(\"Enter the width of rectangle: \"))\n",
    "\n",
    "A=area(length,width)\n",
    "P=perimeter(length,width)\n",
    "\n",
    "print(f\"\\nArea of rectangle is: {A} \")\n",
    "print(f\"\\nPerimeter of rectangle is : {P}\")\n",
    "\n",
    "\n"
   ]
  },
  {
   "cell_type": "markdown",
   "metadata": {},
   "source": [
    "### Write a function to calculate area and circumference of a circle.\n",
    "----"
   ]
  },
  {
   "cell_type": "code",
   "execution_count": 6,
   "metadata": {},
   "outputs": [
    {
     "name": "stdout",
     "output_type": "stream",
     "text": [
      "Enter the radius of circle: 5\n",
      "\n",
      "Area of circle is: 78.53981633974483\n",
      "\n",
      "Circumference of circle is: 31.41592653589793\n"
     ]
    }
   ],
   "source": [
    "import math\n",
    "\n",
    "pi=math.pi\n",
    "\n",
    "def area(r):\n",
    "    return(pi*r*r)\n",
    "\n",
    "def circum(r):\n",
    "    return(2*pi*r)\n",
    "\n",
    "radius=int(input(\"Enter the radius of circle: \"))\n",
    "\n",
    "A=area(radius)\n",
    "C=circum(radius)\n",
    "\n",
    "print(f\"\\nArea of circle is: {A}\")\n",
    "print(f\"\\nCircumference of circle is: {C}\")\n",
    "\n"
   ]
  },
  {
   "cell_type": "markdown",
   "metadata": {},
   "source": [
    "### Write a function to calculate power of a number raised to other.\n",
    "---"
   ]
  },
  {
   "cell_type": "code",
   "execution_count": 7,
   "metadata": {},
   "outputs": [
    {
     "name": "stdout",
     "output_type": "stream",
     "text": [
      "Enter the value of base: 2\n",
      "Enter the value of exponent/power: 3\n",
      "\n",
      " Result after calculating power of 2, 3 times is: 8\n"
     ]
    }
   ],
   "source": [
    "def power(b,e):\n",
    "    return(b**e)\n",
    "\n",
    "base=int(input(\"Enter the value of base: \"))\n",
    "exp=int(input(\"Enter the value of exponent/power: \"))\n",
    "\n",
    "r=power(base,exp)\n",
    "\n",
    "print(f\"\\n Result after calculating power of {base}, {exp} times is: {r}\")"
   ]
  },
  {
   "cell_type": "markdown",
   "metadata": {},
   "source": [
    "### Write a function to tell user if person is able to vote or not.\n",
    "---"
   ]
  },
  {
   "cell_type": "code",
   "execution_count": 8,
   "metadata": {},
   "outputs": [
    {
     "name": "stdout",
     "output_type": "stream",
     "text": [
      "Enter your age: 20\n",
      "You are eligible to vote\n"
     ]
    }
   ],
   "source": [
    "def is_able(age):\n",
    "    if(age>=18):\n",
    "        print(\"You are eligible to vote\")\n",
    "    else:\n",
    "        print(\"You are not eligible to vote\")\n",
    "\n",
    "age=int(input(\"Enter your age: \"))\n",
    "\n",
    "is_able(age)"
   ]
  },
  {
   "cell_type": "markdown",
   "metadata": {},
   "source": [
    "### Write a function to check if a number is even or not.\n",
    "---"
   ]
  },
  {
   "cell_type": "code",
   "execution_count": 11,
   "metadata": {},
   "outputs": [
    {
     "name": "stdout",
     "output_type": "stream",
     "text": [
      "Enter any number: 14\n",
      "14 is even\n"
     ]
    }
   ],
   "source": [
    "def is_Even(num):\n",
    "    if(num%2==0):\n",
    "        return (True)\n",
    "    else:\n",
    "        return (False)\n",
    "\n",
    "number=int(input(\"Enter any number: \"))\n",
    "\n",
    "r=is_Even(number)\n",
    "\n",
    "if(r==True):\n",
    "    print(f\"{number} is even\")\n",
    "    \n",
    "elif(r==False):\n",
    "    print(f\"{number} is odd\")\n",
    "    "
   ]
  },
  {
   "cell_type": "markdown",
   "metadata": {},
   "source": [
    "### Write a function to check if a number is prime or not.\n",
    "---"
   ]
  },
  {
   "cell_type": "code",
   "execution_count": 35,
   "metadata": {},
   "outputs": [
    {
     "name": "stdout",
     "output_type": "stream",
     "text": [
      "Enter a number: 100\n",
      "\n",
      "100 is not prime\n",
      "2 times 50 is 100\n"
     ]
    }
   ],
   "source": [
    "def is_Prime(num):\n",
    "        if(num>1):\n",
    "            for i in range(2,num):\n",
    "                if(num%i==0):\n",
    "                    print(f\"\\n{num} is not prime\")\n",
    "                    print(f\"{i} times {num//i} is {num}\")\n",
    "                    break\n",
    "                else: \n",
    "                    print(f\"{num} is prime\")\n",
    "                    break\n",
    "            \n",
    "        else:\n",
    "            print(f\"{num} is not prime\")\n",
    "\n",
    "number=int(input(\"Enter a number: \"))\n",
    "\n",
    "is_Prime(number)"
   ]
  },
  {
   "cell_type": "markdown",
   "metadata": {},
   "source": [
    "### Write a function to concatenate name of user\n",
    "---"
   ]
  },
  {
   "cell_type": "code",
   "execution_count": 43,
   "metadata": {},
   "outputs": [
    {
     "name": "stdout",
     "output_type": "stream",
     "text": [
      "Enter your first name: muhammad\n",
      "Enter your middle name: shahrayar\n",
      "Enter your last name: malik\n",
      "\n",
      "Your full name is: Muhammad Shahrayar Malik\n"
     ]
    }
   ],
   "source": [
    "def name(fn,mn,ln):\n",
    "    n=(fn+\" \"+mn+\" \"+\"\"+ln )\n",
    "    return(n)\n",
    "\n",
    "firstName=input(\"Enter your first name: \")\n",
    "middleName=input(\"Enter your middle name: \")\n",
    "lastName=input(\"Enter your last name: \")\n",
    "\n",
    "fullName=name(ln=lastName.title(),fn=firstName.title(),mn=middleName.title())\n",
    "\n",
    "print(f\"\\nYour full name is: {fullName}\")\n"
   ]
  },
  {
   "cell_type": "markdown",
   "metadata": {},
   "source": [
    "### Write a program which will ask the user to enter his/her marks (out of 100). Define a function that will display grades according to the marks entered.\n",
    "---\n"
   ]
  },
  {
   "cell_type": "code",
   "execution_count": 6,
   "metadata": {},
   "outputs": [
    {
     "name": "stdout",
     "output_type": "stream",
     "text": [
      "Enter your marks: 97\n",
      "Your grade is A+\n"
     ]
    }
   ],
   "source": [
    "def grades(marks):\n",
    "    if(marks>100 or marks<0):   print(\"Invalid input\")    \n",
    "    elif(marks>=91 and marks<=100):    print(\"Your grade is A+\")\n",
    "    elif(marks>=81 and marks<=90):   print(\"Your grade is A\")\n",
    "    elif(marks>=71 and marks<=80):   print(\"Your grade is B+\")\n",
    "    elif(marks>=61 and marks<=70):   print(\"Your grade is B\")\n",
    "    elif(marks>=51 and marks<=60):   print(\"Your grade is C\")\n",
    "    elif(marks>=41 and marks<=50):   print(\"Your grade is D\")\n",
    "    elif(marks<=40):   print(\"Your grade is F\")\n",
    "    \n",
    "        \n",
    "        \n",
    "marks=int(input(\"Enter your marks: \"))\n",
    "\n",
    "grades(marks)"
   ]
  },
  {
   "cell_type": "markdown",
   "metadata": {},
   "source": [
    "### Write a program to print the factorial of a number by defining a function named 'Factorial'.\n",
    "---"
   ]
  },
  {
   "cell_type": "code",
   "execution_count": 58,
   "metadata": {},
   "outputs": [
    {
     "name": "stdout",
     "output_type": "stream",
     "text": [
      "Enter a number: 5\n",
      "\n",
      " Factorial of 5 is: 120\n"
     ]
    }
   ],
   "source": [
    "def Factorial(num):\n",
    "    fact=1\n",
    "    for i in range(num,0,-1):\n",
    "        fact=fact*i\n",
    "    return (fact)    \n",
    "\n",
    "number=int(input(\"Enter a number: \"))\n",
    "result=Factorial(number)\n",
    "print(f\"\\n Factorial of {number} is: {result}\")"
   ]
  },
  {
   "cell_type": "markdown",
   "metadata": {},
   "source": [
    "### Write a program with help of user define function which takes name as input and display it along with its index number\n"
   ]
  },
  {
   "cell_type": "code",
   "execution_count": 64,
   "metadata": {},
   "outputs": [
    {
     "name": "stdout",
     "output_type": "stream",
     "text": [
      "Enter your first name: Shahrayar\n",
      "0 -----> S \n",
      "1 -----> h \n",
      "2 -----> a \n",
      "3 -----> h \n",
      "4 -----> r \n",
      "5 -----> a \n",
      "6 -----> y \n",
      "7 -----> a \n",
      "8 -----> r \n"
     ]
    }
   ],
   "source": [
    "def fun(name):\n",
    "    lis=list(name)\n",
    "    for i,j in enumerate(lis):\n",
    "        print(f\"{i} -----> {j} \")\n",
    "\n",
    "name=input(\"Enter your first name: \")\n",
    "fun(name)"
   ]
  },
  {
   "cell_type": "code",
   "execution_count": null,
   "metadata": {},
   "outputs": [],
   "source": []
  }
 ],
 "metadata": {
  "kernelspec": {
   "display_name": "Python 3",
   "language": "python",
   "name": "python3"
  },
  "language_info": {
   "codemirror_mode": {
    "name": "ipython",
    "version": 3
   },
   "file_extension": ".py",
   "mimetype": "text/x-python",
   "name": "python",
   "nbconvert_exporter": "python",
   "pygments_lexer": "ipython3",
   "version": "3.7.3"
  }
 },
 "nbformat": 4,
 "nbformat_minor": 2
}
