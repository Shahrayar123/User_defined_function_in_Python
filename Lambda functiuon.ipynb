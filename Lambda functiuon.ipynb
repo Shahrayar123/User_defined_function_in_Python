{
 "cells": [
  {
   "cell_type": "markdown",
   "metadata": {},
   "source": [
    "# Lambda function / Anonymous function\n",
    "---"
   ]
  },
  {
   "cell_type": "code",
   "execution_count": 1,
   "metadata": {},
   "outputs": [
    {
     "name": "stdout",
     "output_type": "stream",
     "text": [
      "Enter first number: 12\n",
      "Enter second number: 2\n",
      "Sum of 12 and 2 is: 14\n"
     ]
    }
   ],
   "source": [
    "add = lambda a,b: a+b            # lambda function of addition\n",
    "\n",
    "num1=int(input(\"Enter first number: \"))\n",
    "num2=int(input(\"Enter second number: \"))\n",
    "\n",
    "r=add(num1,num2)\n",
    "print(f\"Sum of {num1} and {num2} is: {r}\")"
   ]
  },
  {
   "cell_type": "code",
   "execution_count": 3,
   "metadata": {},
   "outputs": [
    {
     "name": "stdout",
     "output_type": "stream",
     "text": [
      "Enter first number: 10\n",
      "Enter second number: 2\n",
      "Subtraction of 10 and 2 is: 8\n"
     ]
    }
   ],
   "source": [
    "sub = lambda a,b: a-b            # lambda function of subtraction\n",
    "\n",
    "num1=int(input(\"Enter first number: \"))\n",
    "num2=int(input(\"Enter second number: \"))\n",
    "\n",
    "r=sub(num1,num2)\n",
    "print(f\"Subtraction of {num1} and {num2} is: {r}\")"
   ]
  },
  {
   "cell_type": "code",
   "execution_count": 4,
   "metadata": {},
   "outputs": [
    {
     "name": "stdout",
     "output_type": "stream",
     "text": [
      "Enter first number: 12\n",
      "Enter second number: 2\n",
      "Multiplication of 12 and 2 is: 24\n"
     ]
    }
   ],
   "source": [
    "mul = lambda a,b: a*b            # lambda function of multiplication\n",
    "\n",
    "num1=int(input(\"Enter first number: \"))\n",
    "num2=int(input(\"Enter second number: \"))\n",
    "\n",
    "r=mul(num1,num2)\n",
    "print(f\"Multiplication of {num1} and {num2} is: {r}\")"
   ]
  },
  {
   "cell_type": "code",
   "execution_count": 7,
   "metadata": {},
   "outputs": [
    {
     "name": "stdout",
     "output_type": "stream",
     "text": [
      "Enter first number: 12\n",
      "Enter second number: 2\n",
      "Division of 12 and 2 is: 6.0\n"
     ]
    }
   ],
   "source": [
    "div = lambda a,b: a/b          # lambda function of division\n",
    "\n",
    "num1=int(input(\"Enter first number: \"))\n",
    "num2=int(input(\"Enter second number: \"))\n",
    "\n",
    "r=div(num1,num2)\n",
    "print(f\"Division of {num1} and {num2} is: {r}\")"
   ]
  },
  {
   "cell_type": "code",
   "execution_count": 8,
   "metadata": {},
   "outputs": [
    {
     "name": "stdout",
     "output_type": "stream",
     "text": [
      "Enter first number: 10\n",
      "Enter second number: 3\n",
      "Modulus of 10 and 3 is: 1\n"
     ]
    }
   ],
   "source": [
    "mod = lambda a,b: a%b            # lambda function of modulus\n",
    "\n",
    "num1=int(input(\"Enter first number: \"))\n",
    "num2=int(input(\"Enter second number: \"))\n",
    "\n",
    "r=mod(num1,num2)\n",
    "print(f\"Modulus of {num1} and {num2} is: {r}\")"
   ]
  },
  {
   "cell_type": "code",
   "execution_count": 9,
   "metadata": {},
   "outputs": [
    {
     "name": "stdout",
     "output_type": "stream",
     "text": [
      "Enter base value: 2\n",
      "Enter power value: 3\n",
      "Power of 2 , 3 times is: 8\n"
     ]
    }
   ],
   "source": [
    "power = lambda a,b: a**b            # lambda function of power\n",
    "\n",
    "num1=int(input(\"Enter base value: \"))\n",
    "num2=int(input(\"Enter power value: \"))\n",
    "\n",
    "r=power(num1,num2)\n",
    "print(f\"Power of {num1} , {num2} times is: {r}\")"
   ]
  },
  {
   "cell_type": "code",
   "execution_count": null,
   "metadata": {},
   "outputs": [],
   "source": []
  }
 ],
 "metadata": {
  "kernelspec": {
   "display_name": "Python 3",
   "language": "python",
   "name": "python3"
  },
  "language_info": {
   "codemirror_mode": {
    "name": "ipython",
    "version": 3
   },
   "file_extension": ".py",
   "mimetype": "text/x-python",
   "name": "python",
   "nbconvert_exporter": "python",
   "pygments_lexer": "ipython3",
   "version": "3.7.3"
  }
 },
 "nbformat": 4,
 "nbformat_minor": 2
}
